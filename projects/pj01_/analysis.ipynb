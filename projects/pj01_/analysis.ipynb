{
 "cells": [
  {
   "cell_type": "markdown",
   "metadata": {},
   "source": [
    "## Hypothesis: I think there are more students in synchronous section than the asynchronous section!"
   ]
  },
  {
   "cell_type": "code",
   "execution_count": 2,
   "metadata": {},
   "outputs": [],
   "source": [
    "import seaborn"
   ]
  },
  {
   "cell_type": "markdown",
   "metadata": {},
   "source": [
    "First I will read the csv and convert it to a column-oriented data table."
   ]
  },
  {
   "cell_type": "code",
   "execution_count": 3,
   "metadata": {},
   "outputs": [],
   "source": [
    "%reload_ext autoreload\n",
    "%autoreload 2"
   ]
  },
  {
   "cell_type": "code",
   "execution_count": 4,
   "metadata": {},
   "outputs": [
    {
     "data": {
      "text/plain": [
       "{'row_number': ['0', '1', '2', '3', '4'],\n",
       " 'year': ['23', '24', '23', '24', '22'],\n",
       " 'unc_status': ['Returning UNC Student',\n",
       "  'Returning UNC Student',\n",
       "  'Returning UNC Student',\n",
       "  'Returning UNC Student',\n",
       "  'Returning UNC Student'],\n",
       " 'comp_major': ['No', 'No', 'No', 'No', 'No'],\n",
       " 'primary_major': ['Advertising and Public Relations',\n",
       "  'Anthropology',\n",
       "  'Biology',\n",
       "  'Biology',\n",
       "  'Biology'],\n",
       " 'data_science': ['No', 'No', 'No', 'No', 'No'],\n",
       " 'prereqs': ['MATH 129P, MATH 130',\n",
       "  'MATH 129P, MATH 231',\n",
       "  'MATH 231, MATH 232, MATH 233, MATH 381',\n",
       "  'MATH 130, MATH 231',\n",
       "  'MATH 129P, MATH 130, MATH 231, MATH 232, MATH 233'],\n",
       " 'prior_exp': ['None to less than one month!',\n",
       "  'None to less than one month!',\n",
       "  'None to less than one month!',\n",
       "  'None to less than one month!',\n",
       "  'None to less than one month!'],\n",
       " 'AP_Principles': ['', '', '', '', ''],\n",
       " 'AP_A': ['', '', '', '', ''],\n",
       " 'other_comp': ['', '', '', '', ''],\n",
       " 'prior_time': ['', '', '', '', ''],\n",
       " 'languages': ['', '', '', '', ''],\n",
       " 'section': ['In-Person', 'In-Person', 'Remote', '', 'Remote'],\n",
       " 'in_person_classes': ['', '', 'Yes', 'Yes', 'Yes'],\n",
       " 'hours_online_social': ['3 to 5 hours',\n",
       "  '5 to 10 hours',\n",
       "  '3 to 5 hours',\n",
       "  '5 to 10 hours',\n",
       "  '3 to 5 hours'],\n",
       " 'hours_online_work': ['3 to 5 hours',\n",
       "  '5 to 10 hours',\n",
       "  '5 to 10 hours',\n",
       "  '5 to 10 hours',\n",
       "  '3 to 5 hours'],\n",
       " 'lesson_time': ['5', '4', '2', '2', '3'],\n",
       " 'sync_perf': ['2', '5', '1', '3', '1'],\n",
       " 'all_sync': ['2', '4', '1', '1', '1'],\n",
       " 'own_notes': ['4', '7', '7', '6', '5'],\n",
       " 'own_examples': ['2', '6', '6', '4', '4'],\n",
       " 'oh_visits': ['2', '0', '0', '4', '1'],\n",
       " 'ls_effective': ['7', '6', '7', '7', '6'],\n",
       " 'lsqs_effective': ['6', '5', '7', '7', '6'],\n",
       " 'programming_effective': ['6', '7', '7', '7', '7'],\n",
       " 'qz_effective': ['5', '5', '7', '7', '5'],\n",
       " 'oh_effective': ['5', '', '', '7', ''],\n",
       " 'tutoring_effective': ['', '', '', '7', ''],\n",
       " 'kaki_effective': ['3', '6', '', '7', ''],\n",
       " 'pace': ['5', '5', '5', '6', '5'],\n",
       " 'difficulty': ['5', '3', '5', '6', '4'],\n",
       " 'understanding': ['4', '7', '6', '4', '4'],\n",
       " 'interesting': ['5', '7', '7', '5', '6'],\n",
       " 'valuable': ['6', '7', '7', '4', '6'],\n",
       " 'would_recommend': ['7', '7', '7', '7', '7']}"
      ]
     },
     "execution_count": 4,
     "metadata": {},
     "output_type": "execute_result"
    }
   ],
   "source": [
    "from data_utils import read_csv_rows, columnar\n",
    "\n",
    "data_rows: list[dict[str, str]] = read_csv_rows(\"../../data/survey.csv\")\n",
    "columns: dict[str, list[str]] = columnar(data_rows)\n",
    "head(columns, 5)\n"
   ]
  },
  {
   "cell_type": "markdown",
   "metadata": {},
   "source": [
    "Next, I will select just the section column. Here are the first five rows:"
   ]
  },
  {
   "cell_type": "code",
   "execution_count": 8,
   "metadata": {},
   "outputs": [
    {
     "data": {
      "text/plain": [
       "{'section': ['In-Person']}"
      ]
     },
     "execution_count": 8,
     "metadata": {},
     "output_type": "execute_result"
    }
   ],
   "source": [
    "from data_utils import head, select\n",
    "subset: dict[str, list[str]] = select(columns, [\"section\"])\n",
    "head(subset, 5)"
   ]
  },
  {
   "cell_type": "markdown",
   "metadata": {},
   "source": [
    "Now I will count up the toals for each"
   ]
  },
  {
   "cell_type": "code",
   "execution_count": null,
   "metadata": {},
   "outputs": [
    {
     "name": "stdout",
     "output_type": "stream",
     "text": [
      "In-Person total is: 350\n",
      "Remote total is: 192\n"
     ]
    }
   ],
   "source": [
    "from data_utils import count\n",
    "\n",
    "counts = count(subset[\"section\"])\n",
    "\n",
    "print(f\"In-Person total is: {counts['In-Person']}\")\n",
    "print(f\"Remote total is: {counts['Remote']}\")\n",
    "\n"
   ]
  },
  {
   "cell_type": "markdown",
   "metadata": {},
   "source": [
    "Let's graph it!"
   ]
  },
  {
   "cell_type": "code",
   "execution_count": null,
   "metadata": {},
   "outputs": [
    {
     "data": {
      "text/plain": [
       "<AxesSubplot:>"
      ]
     },
     "execution_count": 27,
     "metadata": {},
     "output_type": "execute_result"
    },
    {
     "data": {
      "image/png": "[encoded data removed]",
      "text/plain": [
       "<Figure size 432x288 with 1 Axes>"
      ]
     },
     "metadata": {
      "needs_background": "light"
     },
     "output_type": "display_data"
    }
   ],
   "source": [
    "seaborn.barplot(x=[\"In-Person\", \"Remote\"], y=[counts['In-Person'], counts['Remote']])"
   ]
  },
  {
   "cell_type": "markdown",
   "metadata": {},
   "source": [
    "Conclusion\n",
    "\n",
    "There are more students In-Person than Remote!"
   ]
  }
 ],
 "metadata": {
  "interpreter": {
   "hash": "bbee7842ce8ba476870a006d5d5b68f11cea175afb0fea017b7f81beccf88892"
  },
  "kernelspec": {
   "display_name": "Python 3.9.7 64-bit",
   "name": "python3"
  },
  "language_info": {
   "codemirror_mode": {
    "name": "ipython",
    "version": 3
   },
   "file_extension": ".py",
   "mimetype": "text/x-python",
   "name": "python",
   "nbconvert_exporter": "python",
   "pygments_lexer": "ipython3",
   "version": "3.9.7"
  },
  "orig_nbformat": 4
 },
 "nbformat": 4,
 "nbformat_minor": 2
}
